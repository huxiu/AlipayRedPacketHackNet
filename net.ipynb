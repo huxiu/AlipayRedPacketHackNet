{
 "metadata": {
  "name": "",
  "signature": "sha256:f9b0ae1bed88ed94e0d6cfa718ca2bee613c692712b0c7f304d35c2c850eafd9"
 },
 "nbformat": 3,
 "nbformat_minor": 0,
 "worksheets": [
  {
   "cells": [
    {
     "cell_type": "code",
     "collapsed": false,
     "input": [
      "import tensorflow as tf\n",
      "import numpy as np\n",
      "\n",
      "sess = tf.InteractiveSession()\n"
     ],
     "language": "python",
     "metadata": {},
     "outputs": [],
     "prompt_number": 1
    },
    {
     "cell_type": "code",
     "collapsed": false,
     "input": [
      "class batch_norm(object):\n",
      "    def __init__(self, epsilon=1e-5, momentum = 0.9, name=\"batch_norm\"):\n",
      "        with tf.variable_scope(name):\n",
      "            self.epsilon  = epsilon\n",
      "            self.momentum = momentum\n",
      "            self.name = name\n",
      "\n",
      "    def __call__(self, x, train=True):\n",
      "        return tf.contrib.layers.batch_norm(x,\n",
      "                                            decay=self.momentum, \n",
      "                                            updates_collections=None,\n",
      "                                            epsilon=self.epsilon,\n",
      "                                            scale=True,\n",
      "                                            scope=self.name)\n",
      "\n",
      "def conv2d(input_, output_dim, \n",
      "           k_h=5, k_w=5, d_h=2, d_w=2, stddev=0.02,\n",
      "           name=\"conv2d\"):\n",
      "    with tf.variable_scope(name):\n",
      "        w = tf.get_variable('w', [k_h, k_w, input_.get_shape()[-1], output_dim],\n",
      "                            initializer=tf.truncated_normal_initializer(stddev=stddev))\n",
      "        conv = tf.nn.conv2d(input_, w, strides=[1, d_h, d_w, 1], padding='SAME')\n",
      "\n",
      "        biases = tf.get_variable('biases', [output_dim], initializer=tf.constant_initializer(0.0))\n",
      "        conv = tf.reshape(tf.nn.bias_add(conv, biases), conv.get_shape())\n",
      "\n",
      "        return conv\n",
      "\n",
      "def deconv2d(input_, output_shape,\n",
      "             k_h=5, k_w=5, d_h=2, d_w=2, stddev=0.02,\n",
      "             name=\"deconv2d\", with_w=False):\n",
      "    with tf.variable_scope(name):\n",
      "        # filter : [height, width, output_channels, in_channels]\n",
      "        w = tf.get_variable('w', [k_h, k_w, output_shape[-1], input_.get_shape()[-1]],\n",
      "                            initializer=tf.random_normal_initializer(stddev=stddev))\n",
      "        \n",
      "        try:\n",
      "            deconv = tf.nn.conv2d_transpose(input_, w, output_shape=output_shape,\n",
      "                                strides=[1, d_h, d_w, 1])\n",
      "\n",
      "        # Support for verisons of TensorFlow before 0.7.0\n",
      "        except AttributeError:\n",
      "            deconv = tf.nn.deconv2d(input_, w, output_shape=output_shape,\n",
      "                                strides=[1, d_h, d_w, 1])\n",
      "\n",
      "        biases = tf.get_variable('biases', [output_shape[-1]], initializer=tf.constant_initializer(0.0))\n",
      "        deconv = tf.reshape(tf.nn.bias_add(deconv, biases), deconv.get_shape())\n",
      "\n",
      "        if with_w:\n",
      "            return deconv, w, biases\n",
      "        else:\n",
      "            return deconv\n",
      "\n",
      "def lrelu(x, leak=0.2, name=\"lrelu\"):\n",
      "    return tf.maximum(x, leak*x)\n"
     ],
     "language": "python",
     "metadata": {},
     "outputs": [],
     "prompt_number": 3
    },
    {
     "cell_type": "code",
     "collapsed": false,
     "input": [
      "dim = 16\n",
      "batch_size = 32\n",
      "X = tf.placeholder(tf.float32, [batch_size, 256, 256, 3]) # RGB \u901a\u9053\u56fe\n",
      "X_ = tf.placeholder(tf.float32, [batch_size, 1024, 1024, 3]) # RGB \u9ad8\u6e05\u901a\u9053\u56fe\n",
      "\n",
      "# encoder\n",
      "bn1 = batch_norm(name='bn1')\n",
      "bn2 = batch_norm(name='bn2')\n",
      "bn3 = batch_norm(name='bn3')\n",
      "\n",
      "h0 = lrelu(conv2d(X, dim, name='h0_conv'))\n",
      "h1 = lrelu(bn1(conv2d(h0, dim*2, name='h1_conv')))\n",
      "h2 = lrelu(bn2(conv2d(h1, dim*4, name='h2_conv')))\n",
      "h3 = lrelu(bn3(conv2d(h2, dim*8, name='h3_conv')))\n",
      "\n",
      "# decoder area\n",
      "dbn1 = batch_norm(name='dbn1')\n",
      "dbn2 = batch_norm(name='dbn2')\n",
      "dbn3 = batch_norm(name='dbn3')\n",
      "\n",
      "dh1, h1_w, h1_b = deconv2d(h3, \n",
      "    [batch_size, 32, 32, dim*4], name='dh1', with_w=True)\n",
      "h1_ = tf.nn.relu(dbn1(dh1))\n",
      "\n",
      "dh2, h2_w, h2_b = deconv2d(h1_, \n",
      "    [batch_size, 128, 128, dim*2], name='dh2', with_w=True, d_h=4, d_w=4)\n",
      "h2_ = tf.nn.relu(dbn2(dh2))\n",
      "\n",
      "dh3, h3_w, h3_b = deconv2d(h2_, \n",
      "    [batch_size, 512, 512, dim], name='dh3', with_w=True, d_h=4, d_w=4)\n",
      "h3_ = tf.nn.relu(dbn3(dh3))\n",
      "\n",
      "dh, h_w, h_b = deconv2d(h3_, \n",
      "    [batch_size, 1024, 1024, 3], name='dh', with_w=True)\n",
      "h_ = tf.nn.sigmoid(dh)\n",
      "\n",
      "# loss\n",
      "loss = tf.nn.sigmoid_cross_entropy_with_logits(h_, X_)"
     ],
     "language": "python",
     "metadata": {},
     "outputs": [],
     "prompt_number": 4
    },
    {
     "cell_type": "code",
     "collapsed": false,
     "input": [
      "# test the net\n",
      "print h1_, h2_, h3_, h_\n",
      "sess.run(tf.global_variables_initializer())\n",
      "h_.eval(feed_dict={X: np.random.random((32, 256, 256, 3))}).shape"
     ],
     "language": "python",
     "metadata": {},
     "outputs": [
      {
       "output_type": "stream",
       "stream": "stdout",
       "text": [
        "Tensor(\"Relu:0\", shape=(32, 32, 32, 64), dtype=float32) Tensor(\"Relu_1:0\", shape=(32, 128, 128, 32), dtype=float32) Tensor(\"Relu_2:0\", shape=(32, 512, 512, 16), dtype=float32) Tensor(\"Sigmoid:0\", shape=(32, 1024, 1024, 3), dtype=float32)\n"
       ]
      }
     ],
     "prompt_number": 5
    },
    {
     "cell_type": "code",
     "collapsed": false,
     "input": [],
     "language": "python",
     "metadata": {},
     "outputs": [],
     "prompt_number": 7
    },
    {
     "cell_type": "code",
     "collapsed": false,
     "input": [],
     "language": "python",
     "metadata": {},
     "outputs": []
    }
   ],
   "metadata": {}
  }
 ]
}
